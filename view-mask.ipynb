{
 "cells": [
  {
   "cell_type": "code",
   "execution_count": 1,
   "metadata": {},
   "outputs": [],
   "source": [
    "import ssmi_seaice"
   ]
  },
  {
   "cell_type": "code",
   "execution_count": 2,
   "metadata": {},
   "outputs": [
    {
     "data": {
      "text/html": [
       "<pre>&lt;xarray.Dataset&gt;\n",
       "Dimensions:    (nx: 316, ny: 332, time: 13391)\n",
       "Coordinates:\n",
       "  * time       (time) datetime64[ns] 1978-10-26 1978-10-28 ... 2019-12-31\n",
       "Dimensions without coordinates: nx, ny\n",
       "Data variables:\n",
       "    area       (ny, nx) float64 dask.array&lt;chunksize=(166, 158), meta=np.ndarray&gt;\n",
       "    ifrac      (time, ny, nx) float64 dask.array&lt;chunksize=(837, 21, 40), meta=np.ndarray&gt;\n",
       "    lat        (ny, nx) float64 dask.array&lt;chunksize=(166, 158), meta=np.ndarray&gt;\n",
       "    lon        (ny, nx) float64 dask.array&lt;chunksize=(166, 158), meta=np.ndarray&gt;\n",
       "    mask       (ny, nx) float64 dask.array&lt;chunksize=(166, 158), meta=np.ndarray&gt;\n",
       "    pole_mask  (time, ny, nx) float64 dask.array&lt;chunksize=(837, 21, 40), meta=np.ndarray&gt;</pre>"
      ],
      "text/plain": [
       "<xarray.Dataset>\n",
       "Dimensions:    (nx: 316, ny: 332, time: 13391)\n",
       "Coordinates:\n",
       "  * time       (time) datetime64[ns] 1978-10-26 1978-10-28 ... 2019-12-31\n",
       "Dimensions without coordinates: nx, ny\n",
       "Data variables:\n",
       "    area       (ny, nx) float64 dask.array<chunksize=(166, 158), meta=np.ndarray>\n",
       "    ifrac      (time, ny, nx) float64 dask.array<chunksize=(837, 21, 40), meta=np.ndarray>\n",
       "    lat        (ny, nx) float64 dask.array<chunksize=(166, 158), meta=np.ndarray>\n",
       "    lon        (ny, nx) float64 dask.array<chunksize=(166, 158), meta=np.ndarray>\n",
       "    mask       (ny, nx) float64 dask.array<chunksize=(166, 158), meta=np.ndarray>\n",
       "    pole_mask  (time, ny, nx) float64 dask.array<chunksize=(837, 21, 40), meta=np.ndarray>"
      ]
     },
     "execution_count": 2,
     "metadata": {},
     "output_type": "execute_result"
    }
   ],
   "source": [
    "dss = ssmi_seaice.obs_seaice('south')\n",
    "dss"
   ]
  },
  {
   "cell_type": "code",
   "execution_count": 3,
   "metadata": {},
   "outputs": [
    {
     "data": {
      "text/plain": [
       "<matplotlib.collections.QuadMesh at 0x2ac613a5d9d0>"
      ]
     },
     "execution_count": 3,
     "metadata": {},
     "output_type": "execute_result"
    },
    {
     "data": {
      "image/png": "[encoded data removed]",
      "text/plain": [
       "<Figure size 432x288 with 2 Axes>"
      ]
     },
     "metadata": {
      "needs_background": "light"
     },
     "output_type": "display_data"
    }
   ],
   "source": [
    "dss.mask.plot()"
   ]
  },
  {
   "cell_type": "code",
   "execution_count": null,
   "metadata": {},
   "outputs": [],
   "source": []
  }
 ],
 "metadata": {
  "kernelspec": {
   "display_name": "Python [conda env:miniconda3-co2-hole]",
   "language": "python",
   "name": "conda-env-miniconda3-co2-hole-py"
  },
  "language_info": {
   "codemirror_mode": {
    "name": "ipython",
    "version": 3
   },
   "file_extension": ".py",
   "mimetype": "text/x-python",
   "name": "python",
   "nbconvert_exporter": "python",
   "pygments_lexer": "ipython3",
   "version": "3.7.6"
  }
 },
 "nbformat": 4,
 "nbformat_minor": 4
}
